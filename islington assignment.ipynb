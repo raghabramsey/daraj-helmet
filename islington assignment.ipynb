{
 "cells": [
  {
   "cell_type": "code",
   "execution_count": 19,
   "metadata": {},
   "outputs": [
    {
     "name": "stdout",
     "output_type": "stream",
     "text": [
      "13\n"
     ]
    }
   ],
   "source": [
    "ls=[[3,4,6],[2,7,9],[6,9,2]]\n",
    "s=0\n",
    "r=0\n",
    "for i in range(len(ls)):\n",
    "    for j in range(len(ls[i])):\n",
    "        if i==j:\n",
    "            s=s+ls[i][j]\n",
    "        if i==0:\n",
    "            r=r+ls[i][j]\n",
    "print(r)"
   ]
  },
  {
   "cell_type": "code",
   "execution_count": null,
   "metadata": {},
   "outputs": [],
   "source": [
    "import pandas as pd\n",
    "file= pd.ExcelFile('islington.xlsx')\n"
   ]
  },
  {
   "cell_type": "code",
   "execution_count": 23,
   "metadata": {},
   "outputs": [
    {
     "name": "stdout",
     "output_type": "stream",
     "text": [
      "dfga\n",
      "34\n"
     ]
    },
    {
     "data": {
      "text/plain": [
       "int"
      ]
     },
     "execution_count": 23,
     "metadata": {},
     "output_type": "execute_result"
    }
   ],
   "source": [
    "a=input()\n",
    "b=int(input())\n",
    "\n",
    "type(b)"
   ]
  },
  {
   "cell_type": "code",
   "execution_count": 24,
   "metadata": {},
   "outputs": [
    {
     "name": "stdout",
     "output_type": "stream",
     "text": [
      "enter student nameraghab\n",
      "enter maths marks23\n",
      "enter nepali marks2\n",
      "enter social marks2\n",
      "enter english marks2\n",
      "enter student name2\n",
      "enter maths marks2\n",
      "enter nepali marks43\n",
      "enter social marks34\n",
      "enter english marks435\n",
      "enter student namerobin\n",
      "enter maths marks87\n",
      "enter nepali marks78\n",
      "enter social marks87\n",
      "enter english marks67\n",
      "enter student nameseason\n",
      "enter maths marks99\n",
      "enter nepali marks87\n",
      "enter social marks98\n",
      "enter english marks78\n",
      "enter student namepucar\n",
      "enter maths marks87\n",
      "enter nepali marks98\n",
      "enter social marks98\n",
      "enter english marks78\n"
     ]
    }
   ],
   "source": [
    "import json\n",
    "whole= list()\n",
    "for i in range(5):\n",
    "    part=dict()\n",
    "    part[\"name\"]=input(\"enter student name\")\n",
    "    part[\"maths\"]=input(\"enter maths marks\")\n",
    "    part[\"nepali\"]=input(\"enter nepali marks\")\n",
    "    part[\"social\"]=input(\"enter social marks\")\n",
    "    part[\"english\"]=input(\"enter english marks\")\n",
    "    whole.append(part)\n",
    "with open(\"islington.txt\",\"w\")as wfile:\n",
    "    wfile.write(json.dumps(whole))"
   ]
  },
  {
   "cell_type": "code",
   "execution_count": 27,
   "metadata": {
    "scrolled": true
   },
   "outputs": [
    {
     "name": "stdout",
     "output_type": "stream",
     "text": [
      "enter name to calculate %pucar\n",
      "{'name': 'raghab', 'maths': '23', 'nepali': '2', 'social': '2', 'english': '2'}\n",
      "{'name': '2', 'maths': '2', 'nepali': '43', 'social': '34', 'english': '435'}\n",
      "{'name': 'robin', 'maths': '87', 'nepali': '78', 'social': '87', 'english': '67'}\n",
      "{'name': 'season', 'maths': '99', 'nepali': '87', 'social': '98', 'english': '78'}\n",
      "{'name': 'pucar', 'maths': '87', 'nepali': '98', 'social': '98', 'english': '78'}\n",
      "185\n",
      "[('tenglish', 660), ('tmaths', 298), ('tnepali', 308), ('tsocial', 319)]\n",
      "('tenglish', 660)\n"
     ]
    }
   ],
   "source": [
    "import json\n",
    "r=list()\n",
    "big=dict()\n",
    "file=open(\"islington.txt\",\"r\")\n",
    "r=json.load(file)\n",
    "d=dict()\n",
    "avg=0\n",
    "tmaths=0\n",
    "tenglish=0\n",
    "tnepali=0\n",
    "tsocial=0\n",
    "name=input(\"enter name to calculate %\")\n",
    "for i in range(len(r)):\n",
    "    d=r[i]\n",
    "    print(d)\n",
    "    if d[\"name\"]==name:\n",
    "        avg=int(d[\"maths\"])+int(d[\"social\"])\n",
    "        print(avg)\n",
    "    tmaths=tmaths+int(d[\"maths\"])\n",
    "    tnepali=tnepali+int(d[\"nepali\"])\n",
    "    tsocial=tsocial+int(d[\"social\"])\n",
    "    tenglish=tenglish+int(d[\"english\"])\n",
    "big={\"tmaths\":tmaths,\"tnepali\":tnepali,\"tsocial\":tsocial,\"tenglish\":tenglis\n",
    "sorted_d = sorted((value) for (value) in big.items())\n",
    "print(sorted_d) \n",
    "print(sorted_d[0])\n"
   ]
  },
  {
   "cell_type": "code",
   "execution_count": null,
   "metadata": {},
   "outputs": [],
   "source": []
  },
  {
   "cell_type": "code",
   "execution_count": null,
   "metadata": {},
   "outputs": [],
   "source": []
  }
 ],
 "metadata": {
  "kernelspec": {
   "display_name": "Python 3",
   "language": "python",
   "name": "python3"
  },
  "language_info": {
   "codemirror_mode": {
    "name": "ipython",
    "version": 3
   },
   "file_extension": ".py",
   "mimetype": "text/x-python",
   "name": "python",
   "nbconvert_exporter": "python",
   "pygments_lexer": "ipython3",
   "version": "3.7.1"
  }
 },
 "nbformat": 4,
 "nbformat_minor": 2
}
